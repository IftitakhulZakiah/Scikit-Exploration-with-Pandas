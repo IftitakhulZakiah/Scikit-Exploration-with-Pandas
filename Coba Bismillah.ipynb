{
 "cells": [
  {
   "cell_type": "code",
   "execution_count": 25,
   "metadata": {
    "scrolled": true
   },
   "outputs": [],
   "source": [
    "from sklearn import datasets\n",
    "from sklearn.neighbors import KNeighborsClassifier\n",
    "from sklearn.model_selection import train_test_split, cross_val_score\n",
    "from sklearn.neural_network import MLPClassifier\n",
    "from sklearn.metrics import confusion_matrix\n",
    "from sklearn.externals import joblib\n",
    "import pickle"
   ]
  },
  {
   "cell_type": "markdown",
   "metadata": {},
   "source": [
    "# K-NN"
   ]
  },
  {
   "cell_type": "code",
   "execution_count": 76,
   "metadata": {},
   "outputs": [
    {
     "name": "stdout",
     "output_type": "stream",
     "text": [
      "[2 1 0 2 0 2 0 1 1 1 2 1 1 1 1]\n",
      "1.0\n",
      "[1]\n",
      "KNeighborsClassifier(algorithm='auto', leaf_size=30, metric='minkowski',\n",
      "           metric_params=None, n_jobs=1, n_neighbors=5, p=2,\n",
      "           weights='uniform')\n"
     ]
    }
   ],
   "source": [
    "# iris = datasets.load_iris()\n",
    "X = iris.data\n",
    "y = iris.target\n",
    "\n",
    "# set train 90% and test 10%\n",
    "X_train, X_test, y_train, y_test = train_test_split(X, y, test_size=0.1, random_state=0)\n",
    "\n",
    "#learning process\n",
    "neigh = KNeighborsClassifier(n_neighbors = 5)\n",
    "neigh.fit(X_train,y_train)\n",
    "\n",
    "#confusin matrix\n",
    "y_pred = neigh.predict(X_test)\n",
    "confusion_matrix(y_test, y_pred)\n",
    "print(y_pred)\n",
    "\n",
    "#10 fold cross validation\n",
    "y_pred = cross_val_score(neigh, X_train, y_train, cv=10)\n",
    "\n",
    "#accuracy\n",
    "accuracy = neigh.score(X_test, y_test)\n",
    "print(accuracy)\n",
    "\n",
    "#sample input\n",
    "print(neigh.predict([[1.3, 1., 3., 2.9]]))\n",
    "\n",
    "#dump to external file\n",
    "joblib.dump(neigh, \"train_knn.pkl\")\n",
    "\n",
    "#load from external file\n",
    "data = joblib.load(\"train_knn.pkl\")\n",
    "print(data)"
   ]
  },
  {
   "cell_type": "markdown",
   "metadata": {},
   "source": [
    "# MLP"
   ]
  },
  {
   "cell_type": "code",
   "execution_count": 72,
   "metadata": {
    "scrolled": false
   },
   "outputs": [
    {
     "name": "stdout",
     "output_type": "stream",
     "text": [
      "[2 1 0 2 0 2 0 1 1 1 2 1 1 1 1]\n",
      "[2]\n",
      "MLPClassifier(activation='relu', alpha=0.0001, batch_size='auto', beta_1=0.9,\n",
      "       beta_2=0.999, early_stopping=False, epsilon=1e-08,\n",
      "       hidden_layer_sizes=(100,), learning_rate='constant',\n",
      "       learning_rate_init=0.001, max_iter=200, momentum=0.9,\n",
      "       nesterovs_momentum=True, power_t=0.5, random_state=None,\n",
      "       shuffle=True, solver='lbfgs', tol=0.0001, validation_fraction=0.1,\n",
      "       verbose=False, warm_start=False)\n"
     ]
    }
   ],
   "source": [
    "#learning process\n",
    "mlp = MLPClassifier(solver='lbfgs')\n",
    "mlp.fit(X_train, y_train)\n",
    "\n",
    "#confusion matrix\n",
    "y_pred = mlp.predict(X_test)\n",
    "print(y_pred)\n",
    "confusion_matrix(y_test, y_pred)\n",
    "\n",
    "#10 cross validation\n",
    "y_pred = cross_val_score(mlp, X_train, y_train, cv=10)\n",
    "\n",
    "#accuracy\n",
    "accuracy = neigh.score(X_test, y_test)\n",
    "print(accuracy)\n",
    "\n",
    "#sample input\n",
    "print(mlp.predict([[1.3, 1., 3., 2.9]]))\n",
    "\n",
    "#dump to external file\n",
    "joblib.dump(mlp, \"train_mlp.pkl\")\n",
    "\n",
    "#load from external file\n",
    "data = joblib.load(\"train_mlp.pkl\")\n",
    "print(data)"
   ]
  },
  {
   "cell_type": "markdown",
   "metadata": {},
   "source": []
  },
  {
   "cell_type": "code",
   "execution_count": null,
   "metadata": {},
   "outputs": [],
   "source": []
  }
 ],
 "metadata": {
  "kernelspec": {
   "display_name": "Python 2",
   "language": "python",
   "name": "python2"
  },
  "language_info": {
   "codemirror_mode": {
    "name": "ipython",
    "version": 2
   },
   "file_extension": ".py",
   "mimetype": "text/x-python",
   "name": "python",
   "nbconvert_exporter": "python",
   "pygments_lexer": "ipython2",
   "version": "2.7.12"
  }
 },
 "nbformat": 4,
 "nbformat_minor": 2
}
